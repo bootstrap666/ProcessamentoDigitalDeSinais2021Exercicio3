{
  "nbformat": 4,
  "nbformat_minor": 0,
  "metadata": {
    "colab": {
      "name": "newton_sqrt.ipynb",
      "provenance": [],
      "authorship_tag": "ABX9TyNj8jT8QGcrxsMr6nXizA7t",
      "include_colab_link": true
    },
    "kernelspec": {
      "name": "python3",
      "display_name": "Python 3"
    },
    "language_info": {
      "name": "python"
    }
  },
  "cells": [
    {
      "cell_type": "markdown",
      "metadata": {
        "id": "view-in-github",
        "colab_type": "text"
      },
      "source": [
        "<a href=\"https://colab.research.google.com/github/bootstrap666/ProcessamentoDigitalDeSinais2021Exercicio3/blob/main/newton_sqrt.ipynb\" target=\"_parent\"><img src=\"https://colab.research.google.com/assets/colab-badge.svg\" alt=\"Open In Colab\"/></a>"
      ]
    },
    {
      "cell_type": "code",
      "metadata": {
        "id": "1_StXF2ceH5p"
      },
      "source": [
        "import numpy as np\n",
        "import matplotlib.pyplot as plt"
      ],
      "execution_count": null,
      "outputs": []
    },
    {
      "cell_type": "code",
      "metadata": {
        "id": "SbEIexB9ebqx"
      },
      "source": [
        "def newton_sqrt(x,yanterior):\n",
        "  return 0.5*(yanterior + x/yanterior)"
      ],
      "execution_count": null,
      "outputs": []
    },
    {
      "cell_type": "code",
      "metadata": {
        "colab": {
          "base_uri": "https://localhost:8080/",
          "height": 264
        },
        "id": "4EGfapgdeOo7",
        "outputId": "bc0d295e-12f3-45cb-be0a-2d4b8936c923"
      },
      "source": [
        "iteracoes = 10\n",
        "yanterior = 90 # Estimativa inicial\n",
        "x = 2\n",
        "\n",
        "y = np.zeros(iteracoes)\n",
        "\n",
        "for i in range(iteracoes):\n",
        "  y[i] = newton_sqrt(x,yanterior)\n",
        "  yanterior = y[i]\n",
        "\n",
        "plt.plot(range(iteracoes),y)\n",
        "plt.plot([0, iteracoes-1],np.sqrt([x, x]),'r')\n",
        "plt.grid('both')"
      ],
      "execution_count": null,
      "outputs": [
        {
          "output_type": "display_data",
          "data": {
            "image/png": "[encoded data removed]",
            "text/plain": [
              "<Figure size 432x288 with 1 Axes>"
            ]
          },
          "metadata": {
            "tags": [],
            "needs_background": "light"
          }
        }
      ]
    }
  ]
}